{
 "cells": [
  {
   "cell_type": "markdown",
   "metadata": {
    "id": "-Ig10AMB027V"
   },
   "source": [
    "# Functions, Scoping, Data Collections 1 & List Comprehensions"
   ]
  },
  {
   "cell_type": "markdown",
   "metadata": {
    "id": "Rxlb5BnB027W"
   },
   "source": [
    "## Tasks Today:\n",
    "\n",
    "<i>Monday Additions (or, and ... if statements)</i>\n",
    "\n",
    "1) String Manipulation <br>\n",
    " &nbsp;&nbsp;&nbsp;&nbsp; a) strip() <br>\n",
    " &nbsp;&nbsp;&nbsp;&nbsp; b) title() <br>\n",
    "2) Working With Lists <br>\n",
    " &nbsp;&nbsp;&nbsp;&nbsp; a) min() <br>\n",
    " &nbsp;&nbsp;&nbsp;&nbsp; b) max() <br>\n",
    " &nbsp;&nbsp;&nbsp;&nbsp; c) sum() <br>\n",
    " &nbsp;&nbsp;&nbsp;&nbsp; d) sort() <br>\n",
    " &nbsp;&nbsp;&nbsp;&nbsp; e) Copying a List <br>\n",
    " &nbsp;&nbsp;&nbsp;&nbsp; f) 'in' keyword <br>\n",
    " &nbsp;&nbsp;&nbsp;&nbsp; g) 'not in' keyword <br>\n",
    " &nbsp;&nbsp;&nbsp;&nbsp; i) Checking an Empty List <br>\n",
    " &nbsp;&nbsp;&nbsp;&nbsp; j) Removing Instances with a Loop <br>\n",
    "3) List Comprehensions <br>\n",
    "4) Tuples <br>\n",
    " &nbsp;&nbsp;&nbsp;&nbsp; a) sorted() <br>\n",
    "5) Functions <br>\n",
    " &nbsp;&nbsp;&nbsp;&nbsp; a) User-Defined vs. Built-In Functions <br>\n",
    " &nbsp;&nbsp;&nbsp;&nbsp; b) Accepting Parameters <br>\n",
    " &nbsp;&nbsp;&nbsp;&nbsp; c) Default Parameters <br>\n",
    " &nbsp;&nbsp;&nbsp;&nbsp; d) Making an Argument Optional <br>\n",
    " &nbsp;&nbsp;&nbsp;&nbsp; e) Keyword Arguments <br>\n",
    " &nbsp;&nbsp;&nbsp;&nbsp; f) Returning Values <br>\n",
    " &nbsp;&nbsp;&nbsp;&nbsp; g) *args <br>\n",
    " &nbsp;&nbsp;&nbsp;&nbsp; h) Docstring <br>\n",
    " &nbsp;&nbsp;&nbsp;&nbsp; i) Using a User Function in a Loop <br>\n",
    "6) Scope"
   ]
  },
  {
   "cell_type": "markdown",
   "metadata": {
    "id": "gT8Qdf4C027X"
   },
   "source": [
    "### String Manipulation"
   ]
  },
  {
   "cell_type": "markdown",
   "metadata": {
    "id": "QnN4vmY2027X"
   },
   "source": [
    "##### .lstrip()"
   ]
  },
  {
   "cell_type": "code",
   "execution_count": 3,
   "metadata": {
    "id": "v3kCrMb2027X"
   },
   "outputs": [
    {
     "name": "stdout",
     "output_type": "stream",
     "text": [
      "Bishop  \n"
     ]
    }
   ],
   "source": [
    "# string.lstrip()\n",
    "\n",
    "name = '     Bishop  '\n",
    "print(name.lstrip())\n",
    "\n"
   ]
  },
  {
   "cell_type": "markdown",
   "metadata": {
    "id": "BtxTGFxZ027Y"
   },
   "source": [
    "##### .rstrip()"
   ]
  },
  {
   "cell_type": "code",
   "execution_count": 4,
   "metadata": {
    "id": "sfLe6gBs027Y"
   },
   "outputs": [
    {
     "name": "stdout",
     "output_type": "stream",
     "text": [
      "     Bishop\n"
     ]
    }
   ],
   "source": [
    "# string.rstrip()\n",
    "print(name.rstrip())"
   ]
  },
  {
   "cell_type": "markdown",
   "metadata": {
    "id": "MEl53-ol027Y"
   },
   "source": [
    "##### .strip()"
   ]
  },
  {
   "cell_type": "code",
   "execution_count": 5,
   "metadata": {
    "id": "VgLvD0wQ027Y"
   },
   "outputs": [
    {
     "name": "stdout",
     "output_type": "stream",
     "text": [
      "Bishop\n"
     ]
    }
   ],
   "source": [
    "# string.strip()\n",
    "print(name.strip())"
   ]
  },
  {
   "cell_type": "markdown",
   "metadata": {
    "id": "-AAFjZZS027Y"
   },
   "source": [
    "##### .title()"
   ]
  },
  {
   "cell_type": "code",
   "execution_count": 10,
   "metadata": {
    "id": "bFzqFE0C027Y"
   },
   "outputs": [
    {
     "name": "stdout",
     "output_type": "stream",
     "text": [
      "     BISHOP  \n",
      "BISHOP\n"
     ]
    }
   ],
   "source": [
    "# string.title()\n",
    "print(name.upper())\n",
    "print(name.strip().upper())\n"
   ]
  },
  {
   "cell_type": "markdown",
   "metadata": {
    "id": "Iz52KV3W027Y"
   },
   "source": [
    "### String Exercise <br>\n",
    "<p>Strip all white space and capitalize every name in the list given</p>"
   ]
  },
  {
   "cell_type": "code",
   "execution_count": 12,
   "metadata": {
    "id": "WQe9QBg-027Y"
   },
   "outputs": [
    {
     "name": "stdout",
     "output_type": "stream",
     "text": [
      "    CONNOR\n"
     ]
    }
   ],
   "source": [
    "names = ['    coNNor', 'max', ' EVan ', 'JORDAN']\n",
    "# HINT: You will need to use a for loop for iteration\n",
    "\n"
   ]
  },
  {
   "cell_type": "markdown",
   "metadata": {
    "id": "JbpnhWdB027Z"
   },
   "source": [
    "### Working With Lists"
   ]
  },
  {
   "cell_type": "markdown",
   "metadata": {
    "id": "UZJsXKCY027Z"
   },
   "source": [
    "##### min()"
   ]
  },
  {
   "cell_type": "code",
   "execution_count": 14,
   "metadata": {
    "id": "kh_TmtFB027Z"
   },
   "outputs": [
    {
     "name": "stdout",
     "output_type": "stream",
     "text": [
      "1\n"
     ]
    }
   ],
   "source": [
    "# min(list)\n",
    "num_list = [1, 55, 456, 987, 4, 6, 7]\n",
    "print(min(num_list))"
   ]
  },
  {
   "cell_type": "markdown",
   "metadata": {
    "id": "s_7wKcnR027Z"
   },
   "source": [
    "##### max()"
   ]
  },
  {
   "cell_type": "code",
   "execution_count": 15,
   "metadata": {
    "id": "ZlxGgO_F027Z"
   },
   "outputs": [
    {
     "name": "stdout",
     "output_type": "stream",
     "text": [
      "987\n"
     ]
    }
   ],
   "source": [
    "# max(list)\n",
    "\n",
    "print(max(num_list))"
   ]
  },
  {
   "cell_type": "markdown",
   "metadata": {
    "id": "LUJ9l5D-027Z"
   },
   "source": [
    "##### sum()"
   ]
  },
  {
   "cell_type": "code",
   "execution_count": 16,
   "metadata": {
    "id": "OWyGnphj027Z"
   },
   "outputs": [
    {
     "name": "stdout",
     "output_type": "stream",
     "text": [
      "1516\n"
     ]
    }
   ],
   "source": [
    "# sum(list)\n",
    "print(sum(num_list))\n"
   ]
  },
  {
   "cell_type": "markdown",
   "metadata": {
    "id": "-wtjL1-i027Z"
   },
   "source": [
    "##### sorted()"
   ]
  },
  {
   "cell_type": "code",
   "execution_count": 19,
   "metadata": {
    "id": "h-Q3aNHY027Z"
   },
   "outputs": [
    {
     "name": "stdout",
     "output_type": "stream",
     "text": [
      "[1, 4, 6, 7, 55, 456, 987]\n",
      "[1, 55, 456, 987, 4, 6, 7]\n",
      "[1, 4, 6, 7, 55, 456, 987] <class 'list'>\n"
     ]
    }
   ],
   "source": [
    "# sorted(list)\n",
    "\n",
    "print(sorted(num_list))\n",
    "print(num_list)\n",
    "sorted_list = sorted(num_list)\n",
    "print(sorted_list, type(sorted_list))"
   ]
  },
  {
   "cell_type": "markdown",
   "metadata": {
    "id": "kgxfZtQ0027Z"
   },
   "source": [
    "##### .sort() <br>\n",
    "<p>Difference between sort and sorted, is that sorted doesn't change original list it returns a copy, while .sort changes the original list</p>"
   ]
  },
  {
   "cell_type": "code",
   "execution_count": 20,
   "metadata": {
    "id": "uqpswy6C027a"
   },
   "outputs": [
    {
     "name": "stdout",
     "output_type": "stream",
     "text": [
      "[1, 55, 456, 987, 4, 6, 7]\n",
      "[1, 4, 6, 7, 55, 456, 987]\n"
     ]
    }
   ],
   "source": [
    "# list.sort()\n",
    "print(num_list)\n",
    "num_list.sort()\n",
    "print(num_list)\n",
    "\n",
    "# use sorted when you don't want to alter original list, use .sort() when you want to alter original list"
   ]
  },
  {
   "cell_type": "markdown",
   "metadata": {
    "id": "odsbUXuS027a"
   },
   "source": [
    "##### Copying a List"
   ]
  },
  {
   "cell_type": "code",
   "execution_count": 25,
   "metadata": {
    "id": "S78Mgfrp027a"
   },
   "outputs": [
    {
     "name": "stdout",
     "output_type": "stream",
     "text": [
      "[987, 456, 55, 7, 6, 4, 1]\n",
      "[1, 4, 6, 7, 55, 456, 987]\n",
      "a string!\n"
     ]
    }
   ],
   "source": [
    "# [:] copies a list, doesn't alter original\n",
    "# slice notation\n",
    "# out-of-place operation!\n",
    "\n",
    "#  [ start, stop, step]\n",
    "rev_list = num_list[::-1]\n",
    "print(rev_list)\n",
    "print(num_list)\n",
    "\n",
    "st_ex = \"I'm a string!\"\n",
    "print(st_ex[4:])"
   ]
  },
  {
   "cell_type": "markdown",
   "metadata": {
    "id": "NKBfRWP0027a"
   },
   "source": [
    "##### 'in' keyword"
   ]
  },
  {
   "cell_type": "code",
   "execution_count": 27,
   "metadata": {
    "id": "w_y69f_N027a"
   },
   "outputs": [
    {
     "name": "stdout",
     "output_type": "stream",
     "text": [
      "all students\n"
     ]
    }
   ],
   "source": [
    "s_list = ['Connor', 'David', 'Jason', 'Kaytlin', 'Orlando', 'Robin', 'Yousif', 'Brendan']\n",
    "if 'Brendan' in s_list:\n",
    "    print('This is NOT a student')\n",
    "else:\n",
    "    print('all students')"
   ]
  },
  {
   "cell_type": "markdown",
   "metadata": {
    "id": "LE2bQJRO027a"
   },
   "source": [
    "##### 'not in' keyword"
   ]
  },
  {
   "cell_type": "code",
   "execution_count": 28,
   "metadata": {
    "id": "t938FxZK027a"
   },
   "outputs": [
    {
     "name": "stdout",
     "output_type": "stream",
     "text": [
      "nope, NOT in there\n"
     ]
    }
   ],
   "source": [
    "if \"Brandt\" not in s_list:\n",
    "    print('nope, NOT in there')"
   ]
  },
  {
   "cell_type": "markdown",
   "metadata": {
    "id": "NgxXjsIw027a"
   },
   "source": [
    "##### Checking an Empty List"
   ]
  },
  {
   "cell_type": "code",
   "execution_count": 32,
   "metadata": {
    "id": "dOMDWKiM027a"
   },
   "outputs": [
    {
     "name": "stdout",
     "output_type": "stream",
     "text": [
      "True\n",
      "True\n",
      "it is empty\n"
     ]
    }
   ],
   "source": [
    "# if l_1: or if l_1 = []\n",
    "t_list = []\n",
    "if s_list:\n",
    "    print(True)\n",
    "if not t_list:\n",
    "    print(True)\n",
    "    \n",
    "# Let's talk about truthiness. . .  0  => False, also None, False, empty lists, strings\n",
    "\n",
    "if t_list == []:\n",
    "    print('it is empty')\n",
    "\n"
   ]
  },
  {
   "cell_type": "markdown",
   "metadata": {
    "id": "5XFoozzp027a"
   },
   "source": [
    "##### Removing Instances with a Loop"
   ]
  },
  {
   "cell_type": "code",
   "execution_count": 34,
   "metadata": {
    "id": "-ssyjF4D027a"
   },
   "outputs": [
    {
     "name": "stdout",
     "output_type": "stream",
     "text": [
      "['abc', 'abc', 'abc']\n",
      "[]\n"
     ]
    }
   ],
   "source": [
    "# while, remove\n",
    "rep_list = ['abc', 'abc', 'abc', 'abc']\n",
    "rep_list.remove('abc')\n",
    "print(rep_list)\n",
    "while 'abc' in rep_list:\n",
    "    rep_list.remove('abc')\n",
    "print(rep_list)\n"
   ]
  },
  {
   "cell_type": "markdown",
   "metadata": {
    "id": "Xdq4d8BA027b"
   },
   "source": [
    "### List Exercise <br>\n",
    "<p>Remove all duplicates<br><b>Extra: Create a program that will remove any duplicates from a given list</b></p>"
   ]
  },
  {
   "cell_type": "code",
   "execution_count": null,
   "metadata": {
    "id": "shSOpRKK027b"
   },
   "outputs": [],
   "source": [
    "names = ['connor', 'connor', 'bob', 'connor', 'evan', 'max', 'evan', 2, 2, 2, 3, 3, 4, 'bob', 'kevin']\n",
    "# Hint 1: You will need an append\n",
    "# Hint 2: Using an empty list will make life easier\n",
    "\n",
    "\n"
   ]
  },
  {
   "cell_type": "markdown",
   "metadata": {
    "id": "ohCqSE6h027b"
   },
   "source": [
    "### List Comprehensions <br>\n",
    "<p>Creating a quickly generated list to work with<br>*result*  = [*transform*    *iteration*         *filter*     ]</p>"
   ]
  },
  {
   "cell_type": "markdown",
   "metadata": {
    "id": "fAlJKIR7027b"
   },
   "source": [
    "##### In a list comprehension we have a few pieces:\n",
    "1. The first is the counter/ variable - IN this the variable is x\n",
    "2. then we have a transform for the variable\n",
    "3. The finale part of a list comp is called the condition\n",
    "\n",
    "```python\n",
    "    [variable, transform, condition]\n",
    "```"
   ]
  },
  {
   "cell_type": "code",
   "execution_count": 39,
   "metadata": {
    "id": "aim52f_H027b"
   },
   "outputs": [
    {
     "name": "stdout",
     "output_type": "stream",
     "text": [
      "[0, 1, 2, 3, 4, 5, 6, 7, 8, 9, 10, 11, 12, 13, 14, 15, 16, 17, 18, 19, 20, 21, 22, 23, 24, 25, 26, 27, 28, 29, 30, 31, 32, 33, 34, 35, 36, 37, 38, 39, 40, 41, 42, 43, 44, 45, 46, 47, 48, 49, 50, 51, 52, 53, 54, 55, 56, 57, 58, 59, 60, 61, 62, 63, 64, 65, 66, 67, 68, 69, 70, 71, 72, 73, 74, 75, 76, 77, 78, 79, 80, 81, 82, 83, 84, 85, 86, 87, 88, 89, 90, 91, 92, 93, 94, 95, 96, 97, 98, 99, 100]\n",
      "\n",
      "list comp:\n",
      "\n",
      "[0, 1, 2, 3, 4, 5, 6, 7, 8, 9, 10, 11, 12, 13, 14, 15, 16, 17, 18, 19, 20, 21, 22, 23, 24, 25, 26, 27, 28, 29, 30, 31, 32, 33, 34, 35, 36, 37, 38, 39, 40, 41, 42, 43, 44, 45, 46, 47, 48, 49, 50, 51, 52, 53, 54, 55, 56, 57, 58, 59, 60, 61, 62, 63, 64, 65, 66, 67, 68, 69, 70, 71, 72, 73, 74, 75, 76, 77, 78, 79, 80, 81, 82, 83, 84, 85, 86, 87, 88, 89, 90, 91, 92, 93, 94, 95, 96, 97, 98, 99, 100]\n",
      "\n",
      "list comp TWO:\n",
      "\n",
      "[0, 1, 4, 9, 16]\n"
     ]
    }
   ],
   "source": [
    "# number comprehension\n",
    "\n",
    "# With a regular for loop\n",
    "nums = []\n",
    "\n",
    "for x in range(101):\n",
    "    nums.append(x)\n",
    "print(nums)\n",
    "\n",
    "\n",
    "# IN a list comprehension we have a few pieces:\n",
    "# The first is the counter/ variable - IN this the variable is x\n",
    "# Then we have a transform for the variable \n",
    "# The finale part of a list comp is called the condition\n",
    "#[variable, transform, condition]\n",
    "\n",
    "print('\\nlist comp:\\n')\n",
    "num_comp = [x for x in range(101)]\n",
    "print(num_comp)\n",
    "print('\\nlist comp TWO:\\n')\n",
    "print([x**2 for x in range(5)])\n",
    "\n"
   ]
  },
  {
   "cell_type": "markdown",
   "metadata": {
    "id": "hw_aIwiU027b"
   },
   "source": [
    "There are a few benefits to using List comprehensions. The most obvious would be that we now have shorter code to work with instead of using 3+ lines of code in the for loop variant.\n",
    "\n",
    "Another is an added benefit to memory usage. Since the list's memory is allocated first before adding elements to it, we don't have to resize the list once we add elements to it.\n",
    "\n",
    "Lastly, list comprehensions are considered the \"pythonic\" way to write code by the PEP8 standards (Python Style Guide)"
   ]
  },
  {
   "cell_type": "code",
   "execution_count": 43,
   "metadata": {
    "id": "D8b_GN22027b"
   },
   "outputs": [
    {
     "name": "stdout",
     "output_type": "stream",
     "text": [
      "[0, 1, 2, 3, 4, 5, 6, 7, 8, 9]\n",
      "[0, 1, 4, 9, 16, 25, 36, 49, 64, 81]\n"
     ]
    }
   ],
   "source": [
    "# square number comprehension\n",
    "\n",
    "square_list = []\n",
    "for x in range(10):\n",
    "    square_list.append(x)\n",
    "print(square_list)\n",
    "\n",
    "print([x**2 for x in range(10)])"
   ]
  },
  {
   "cell_type": "code",
   "execution_count": 51,
   "metadata": {
    "id": "HF_R_k2P027b"
   },
   "outputs": [
    {
     "name": "stdout",
     "output_type": "stream",
     "text": [
      "['B', 'G', 'S']\n",
      "['p', 'b', 'e', 'p']\n"
     ]
    }
   ],
   "source": [
    "# string comprehension\n",
    "\n",
    "peep_list = [ 'Bill', 'George', \"Sue\"]\n",
    "foods = ['pizza', 'burrito', 'egg rolls', 'pepper']\n",
    "\n",
    "\n",
    "first_comp = [x[0] for x in peep_list]\n",
    "print(first_comp)\n",
    "\n",
    "f_list = []\n",
    "for food in foods:\n",
    "    f_list.append(food[0])\n",
    "print(f_list)\n"
   ]
  },
  {
   "cell_type": "code",
   "execution_count": 52,
   "metadata": {
    "id": "KVBLPqew027c"
   },
   "outputs": [
    {
     "name": "stdout",
     "output_type": "stream",
     "text": [
      "['pizza', 'pepper']\n",
      "['pizza', 'pepper']\n"
     ]
    }
   ],
   "source": [
    "# Using if . . . \n",
    "next_list = [food for food in foods if food[0] == 'p']\n",
    "print(next_list)\n",
    "\n",
    "f_list2 = []\n",
    "for food in foods:\n",
    "    if food[0] == 'p':\n",
    "        f_list2.append(food)\n",
    "print(f_list2)\n",
    "\n"
   ]
  },
  {
   "cell_type": "code",
   "execution_count": null,
   "metadata": {
    "id": "2GLvlA7t027c"
   },
   "outputs": [],
   "source": [
    "#generic to remember\n",
    "# [num<transformed variable> for num<step in the loop> in <iterable> ]"
   ]
  },
  {
   "cell_type": "markdown",
   "metadata": {
    "id": "omon3dD5027c"
   },
   "source": [
    "### Tuples <br>\n",
    "<p><b>Defined as an immutable list</b></p><br>Seperated by commas using parenthesis"
   ]
  },
  {
   "cell_type": "code",
   "execution_count": 56,
   "metadata": {
    "id": "AuPp68Y5027c"
   },
   "outputs": [
    {
     "name": "stdout",
     "output_type": "stream",
     "text": [
      "(1, 2, 3)\n",
      "(1, 2, 3)\n",
      "<class 'tuple'>\n",
      "<class 'tuple'>\n",
      "1\n",
      "2\n",
      "3\n",
      "1\n"
     ]
    }
   ],
   "source": [
    "tup_1 = 1,2,3 # first way of making a tuple\n",
    "tup_2 = (1, 2, 3) # Another way (preferred????)\n",
    "\n",
    "print(tup_1)\n",
    "print(tup_2)\n",
    "print(type(tup_1))\n",
    "print(type(tup_2))\n",
    "\n",
    "for num in tup_1:\n",
    "    print(num)\n",
    "print(tup_1[0])\n",
    "\n"
   ]
  },
  {
   "cell_type": "code",
   "execution_count": 59,
   "metadata": {},
   "outputs": [
    {
     "name": "stdout",
     "output_type": "stream",
     "text": [
      "[4, 2, 3]\n",
      "1\n"
     ]
    }
   ],
   "source": [
    "# side-note example on mutability\n",
    "som_list = [1, 2, 3]\n",
    "som_st = '123'\n",
    "som_list[0]= 4\n",
    "print(som_list)\n",
    "# som_st[0] = '4'\n",
    "print(som_st[0])"
   ]
  },
  {
   "cell_type": "code",
   "execution_count": 62,
   "metadata": {},
   "outputs": [],
   "source": [
    "new_tup = (4, 8, 56, 9)"
   ]
  },
  {
   "cell_type": "code",
   "execution_count": 66,
   "metadata": {},
   "outputs": [
    {
     "name": "stdout",
     "output_type": "stream",
     "text": [
      "(4, 8, 56, 9)\n",
      "[4, 8, 9, 56]\n",
      "<class 'list'>\n",
      "(4, 8, 56, 9, 987, 456)\n"
     ]
    }
   ],
   "source": [
    "print(new_tup)\n",
    "# del(new_tup[0])\n",
    "print(sorted(new_tup))\n",
    "print(type(sorted(new_tup)))\n",
    "new = new_tup + (987, 456)\n",
    "print(new)"
   ]
  },
  {
   "cell_type": "markdown",
   "metadata": {
    "id": "r9qGpF8M027c"
   },
   "source": [
    "##### sorted()"
   ]
  },
  {
   "cell_type": "code",
   "execution_count": null,
   "metadata": {
    "id": "l9mTLU2S027c"
   },
   "outputs": [],
   "source": [
    "see above"
   ]
  },
  {
   "cell_type": "markdown",
   "metadata": {
    "id": "831UQhpo027c"
   },
   "source": [
    "##### Adding values to a Tuple"
   ]
  },
  {
   "cell_type": "code",
   "execution_count": 68,
   "metadata": {
    "id": "6EoMGtuO027c"
   },
   "outputs": [
    {
     "name": "stdout",
     "output_type": "stream",
     "text": [
      "(4, 8, 56, 9, 987, 456, 5, 5, 6874)\n"
     ]
    }
   ],
   "source": [
    "new += (5,) #remember the trailing comma if adding a single value so python recognizes it as a tuple!\n",
    "print(new)"
   ]
  },
  {
   "cell_type": "markdown",
   "metadata": {
    "id": "cOAdIwks027c"
   },
   "source": [
    "## Functions"
   ]
  },
  {
   "cell_type": "markdown",
   "metadata": {
    "id": "u7QBdUeD027c"
   },
   "source": [
    "##### User-Defined vs. Built-In Functions"
   ]
  },
  {
   "cell_type": "code",
   "execution_count": 73,
   "metadata": {
    "id": "Q--U2qku027c"
   },
   "outputs": [
    {
     "name": "stdout",
     "output_type": "stream",
     "text": [
      "Hi World\n",
      "<function cliche at 0x000001C52D924280>\n"
     ]
    }
   ],
   "source": [
    "# User-defined:\n",
    "def cliche(st):\n",
    "    return st\n",
    "print(cliche('Hi World')) # calling the function\n",
    "\n",
    "print(cliche)\n"
   ]
  },
  {
   "cell_type": "markdown",
   "metadata": {
    "id": "YHLwiH9Y027d"
   },
   "source": [
    "##### Accepting Parameters"
   ]
  },
  {
   "cell_type": "code",
   "execution_count": 78,
   "metadata": {
    "id": "G4BO-s_L027d"
   },
   "outputs": [
    {
     "name": "stdout",
     "output_type": "stream",
     "text": [
      "Hello Brandt Carlson, Great to see ya!\n"
     ]
    },
    {
     "data": {
      "text/plain": [
       "'Hello Carlson Brandt, Great to see ya!'"
      ]
     },
     "execution_count": 78,
     "metadata": {},
     "output_type": "execute_result"
    }
   ],
   "source": [
    "# Order REALLY matters!\n",
    "# a variable could be anything that we're taking in!\n",
    "def name_print(fname, lname):\n",
    "    return f\"Hello {fname} {lname}, Great to see ya!\"\n",
    "\n",
    "print(name_print('Brandt', 'Carlson'))\n",
    "name_print('Carlson', 'Brandt')"
   ]
  },
  {
   "cell_type": "markdown",
   "metadata": {
    "id": "KphZvJTl027e"
   },
   "source": [
    "##### Default Parameters"
   ]
  },
  {
   "cell_type": "code",
   "execution_count": 82,
   "metadata": {
    "id": "UigU6Q7x027f"
   },
   "outputs": [
    {
     "name": "stdout",
     "output_type": "stream",
     "text": [
      "The name is Bond, James Bond\n"
     ]
    }
   ],
   "source": [
    "# default params MUST be after positional (non-default) arguements\n",
    "def more_name_printing(fname, lname = 'Bond'):\n",
    "    return f\"The name is {lname}, {fname} {lname}\"\n",
    "print(more_name_printing('James'))"
   ]
  },
  {
   "cell_type": "markdown",
   "metadata": {
    "id": "AeJmqQl4027f"
   },
   "source": [
    "##### Making an Argument Optional"
   ]
  },
  {
   "cell_type": "code",
   "execution_count": 83,
   "metadata": {
    "id": "v9ml6KOs027f"
   },
   "outputs": [
    {
     "name": "stdout",
     "output_type": "stream",
     "text": [
      "Hi there Mr   Ed\n"
     ]
    }
   ],
   "source": [
    "def horse(first, middle = '', last = ' Ed'):\n",
    "    return f\"Hi there {first} {middle} {last}\"\n",
    "print(horse('Mr'))"
   ]
  },
  {
   "cell_type": "markdown",
   "metadata": {
    "id": "k-eC9sAo027f"
   },
   "source": [
    "##### Keyword Arguments"
   ]
  },
  {
   "cell_type": "code",
   "execution_count": 88,
   "metadata": {
    "id": "DhV05jqT027f"
   },
   "outputs": [
    {
     "data": {
      "text/plain": [
       "'Hi there MR Horse That talks'"
      ]
     },
     "execution_count": 88,
     "metadata": {},
     "output_type": "execute_result"
    }
   ],
   "source": [
    "horse('MR' , middle='Horse', last='That talks')"
   ]
  },
  {
   "cell_type": "markdown",
   "metadata": {
    "id": "Y8tPq3EH027f"
   },
   "source": [
    "# Creating a start, stop, step function"
   ]
  },
  {
   "cell_type": "code",
   "execution_count": 91,
   "metadata": {
    "id": "zXc0zM86027f"
   },
   "outputs": [
    {
     "name": "stdout",
     "output_type": "stream",
     "text": [
      "1\n",
      "2\n",
      "3\n",
      "4\n"
     ]
    }
   ],
   "source": [
    "def my_range(stop, start=0, step=1):\n",
    "    for i in range(start, stop, step):\n",
    "        print(i)\n",
    "my_range(5, 1)"
   ]
  },
  {
   "cell_type": "code",
   "execution_count": null,
   "metadata": {},
   "outputs": [],
   "source": [
    "# range(5)  range(5, 10)  range(0, 10, 2) FOR REFERENCE"
   ]
  },
  {
   "cell_type": "markdown",
   "metadata": {
    "id": "6jHpShbO027f"
   },
   "source": [
    "##### Returning Values"
   ]
  },
  {
   "cell_type": "code",
   "execution_count": null,
   "metadata": {},
   "outputs": [],
   "source": [
    "# CASING:   snake_case --> Python   camelCase--> Javascript     PascalCase-- We'll worry about that later. . . "
   ]
  },
  {
   "cell_type": "code",
   "execution_count": 98,
   "metadata": {
    "id": "5bNdzoM1027f"
   },
   "outputs": [
    {
     "name": "stdout",
     "output_type": "stream",
     "text": [
      "16\n",
      "None\n"
     ]
    }
   ],
   "source": [
    "def add_nums(num1, num2):\n",
    "    return num1 + num2\n",
    "\n",
    "# add_nums(7, 7)\n",
    "\n",
    "def mult_nums(num1, num2):\n",
    "    print(num1 * num2)\n",
    "    \n",
    "    \n",
    "print(mult_nums(add_nums(2, 2), add_nums(2, 2)))\n",
    "# print(add_nums(mult_nums(4, 4), mult_nums(4, 4)))"
   ]
  },
  {
   "cell_type": "markdown",
   "metadata": {
    "id": "vNbAethA027f"
   },
   "source": [
    "##### \\*args  /  **kwargs (keyword arguments)"
   ]
  },
  {
   "cell_type": "code",
   "execution_count": 99,
   "metadata": {
    "id": "va0-Kkyk027g"
   },
   "outputs": [
    {
     "name": "stdout",
     "output_type": "stream",
     "text": [
      "5678\n",
      "Ash\n",
      "Bluey\n",
      "Spongebob\n",
      "4\n",
      "67\n",
      "testing\n",
      "somethingelse\n"
     ]
    }
   ],
   "source": [
    "# args => arguments!  * (generally) => all\n",
    "# so the translation here is any number of arguments. . .  or keyword arguments\n",
    "\n",
    "def printArgs( num1, *args, **kwargs):\n",
    "    print(num1)\n",
    "    \n",
    "    for arg in args:\n",
    "        print(arg)\n",
    "        \n",
    "    for kwarg in kwargs:\n",
    "        print(kwarg)\n",
    "        \n",
    "printArgs(5678, 'Ash', 'Bluey', 'Spongebob', 4, 67, testing = \"truetrue\", somethingelse= 'Kaytlin' )\n",
    "\n"
   ]
  },
  {
   "cell_type": "markdown",
   "metadata": {
    "id": "zR3Nan0g027g"
   },
   "source": [
    "##### Docstring"
   ]
  },
  {
   "cell_type": "code",
   "execution_count": 104,
   "metadata": {
    "id": "o1cE6wRq027g"
   },
   "outputs": [
    {
     "name": "stdout",
     "output_type": "stream",
     "text": [
      "Help on function name_printer in module __main__:\n",
      "\n",
      "name_printer(arr)\n",
      "    So . . . THIS is how we define our own version of help \n",
      "    on whatever the heck this function is doing!\n",
      "    parameters- accepts a list of strings. . . .\n",
      "\n"
     ]
    }
   ],
   "source": [
    "def name_printer(arr):\n",
    "    \"\"\"\n",
    "    So . . . THIS is how we define our own version of help \n",
    "    on whatever the heck this function is doing!\n",
    "    parameters- accepts a list of strings. . . .\n",
    "    \"\"\"\n",
    "    for name in arr:\n",
    "        print(name)\n",
    "# print(name_printer(names))\n",
    "help(name_printer)"
   ]
  },
  {
   "cell_type": "code",
   "execution_count": null,
   "metadata": {},
   "outputs": [],
   "source": []
  },
  {
   "cell_type": "markdown",
   "metadata": {
    "id": "vmhWCqoO027g"
   },
   "source": [
    "##### Using a User Function in a Loop"
   ]
  },
  {
   "cell_type": "code",
   "execution_count": 107,
   "metadata": {
    "id": "7_HM2W18027g"
   },
   "outputs": [
    {
     "name": "stdout",
     "output_type": "stream",
     "text": [
      " do you want to quit?  if so enter qq\n",
      "What should we do?nothing\n",
      "nothing\n",
      "Ready to quit now?q\n"
     ]
    }
   ],
   "source": [
    "def print_input(answer):\n",
    "    print(answer)\n",
    "response = input(' do you want to quit?  if so enter q')\n",
    "\n",
    "while True:\n",
    "    ask = input('What should we do?')\n",
    "    print_input(ask)\n",
    "    \n",
    "    response = input('Ready to quit now?')\n",
    "    if response.lower() == 'q':\n",
    "        break\n"
   ]
  },
  {
   "cell_type": "markdown",
   "metadata": {
    "id": "6i7HH4vc027g"
   },
   "source": [
    "## Function Exercise <br>\n",
    "<p>Write a function that loops through a list of first_names and a list of last_names, combines the two and return a list of full_names</p>"
   ]
  },
  {
   "cell_type": "code",
   "execution_count": 110,
   "metadata": {
    "id": "NcWJ9dRO027g"
   },
   "outputs": [
    {
     "name": "stdout",
     "output_type": "stream",
     "text": [
      "['John Smith', 'Evan Smith', 'Jordan Williams', 'Max Bell']\n"
     ]
    }
   ],
   "source": [
    "first_name = ['John', 'Evan', 'Jordan', 'Max']\n",
    "last_name = ['Smith', 'Smith', 'Williams', 'Bell']\n",
    "full_names = []\n",
    "for i in range(len(first_name)):\n",
    "    full_names.append(first_name[i] + ' ' + last_name[i])\n",
    "print(full_names)\n",
    "\n",
    "# Output: ['John Smith', 'Evan Smith', 'Jordan Williams', 'Max Bell']\n"
   ]
  },
  {
   "cell_type": "markdown",
   "metadata": {
    "id": "DgFCwoA4027g"
   },
   "source": [
    "## Scope <br>\n",
    "<p>Scope refers to the ability to access variables, different types of scope include:<br>a) Global<br>b) Function (local)<br>c) Class (local)</p>"
   ]
  },
  {
   "cell_type": "code",
   "execution_count": 115,
   "metadata": {
    "id": "7YZr7kUB027g"
   },
   "outputs": [],
   "source": [
    "# where we are defining our variables matters!\n",
    "num55 = 5\n",
    "\n",
    "def som_func():\n",
    "    num99 = 84\n",
    "    return num99\n",
    "returned_num = som_func()\n",
    "\n"
   ]
  },
  {
   "cell_type": "code",
   "execution_count": 116,
   "metadata": {},
   "outputs": [
    {
     "name": "stdout",
     "output_type": "stream",
     "text": [
      "5\n",
      "84\n"
     ]
    }
   ],
   "source": [
    "print(num55)\n",
    "print(returned_num)"
   ]
  },
  {
   "cell_type": "markdown",
   "metadata": {
    "id": "CM1xE4Rt027g"
   },
   "source": [
    "# Exercises"
   ]
  },
  {
   "cell_type": "markdown",
   "metadata": {
    "id": "Ncdz8Fxm027g"
   },
   "source": [
    "## Exercise 1 <br>\n",
    "<p>Given a list as a parameter,write a function that returns a list of numbers that are less than ten</b></i></p><br>\n",
    "<p> For example: Say your input parameter to the function is [1,11,14,5,8,9]...Your output should [1,5,8,9]</p>"
   ]
  },
  {
   "cell_type": "code",
   "execution_count": null,
   "metadata": {
    "id": "P5PFlHCS027h"
   },
   "outputs": [],
   "source": [
    "# Use the following list - [1,11,14,5,8,9]\n",
    "\n",
    "l_1 = [1,11,14,5,8,9]\n",
    "\n"
   ]
  },
  {
   "cell_type": "markdown",
   "metadata": {
    "id": "gFJgx9s_027h"
   },
   "source": [
    "## Exercise 2 <br>\n",
    "<p>Write a function that takes in two lists and returns the two lists merged together and sorted<br>\n",
    "<b><i>Hint: You can use the .sort() method</i></b></p>"
   ]
  },
  {
   "cell_type": "code",
   "execution_count": null,
   "metadata": {
    "id": "m0WZnkVE027h"
   },
   "outputs": [],
   "source": [
    "l_1 = [1,2,3,4,5,6]\n",
    "l_2 = [3,4,5,6,7,8,10]\n",
    "\n"
   ]
  }
 ],
 "metadata": {
  "colab": {
   "provenance": []
  },
  "kernelspec": {
   "display_name": "Python 3 (ipykernel)",
   "language": "python",
   "name": "python3"
  },
  "language_info": {
   "codemirror_mode": {
    "name": "ipython",
    "version": 3
   },
   "file_extension": ".py",
   "mimetype": "text/x-python",
   "name": "python",
   "nbconvert_exporter": "python",
   "pygments_lexer": "ipython3",
   "version": "3.9.7"
  }
 },
 "nbformat": 4,
 "nbformat_minor": 1
}
